{
 "cells": [
  {
   "cell_type": "markdown",
   "metadata": {},
   "source": [
    "List of LaTeX math symbols: https://oeis.org/wiki/List_of_LaTeX_mathematical_symbols"
   ]
  },
  {
   "cell_type": "code",
   "execution_count": 14,
   "metadata": {},
   "outputs": [
    {
     "data": {
      "application/javascript": [
       "MathJax.Hub.Config({displayAlign: 'left'});\n"
      ],
      "text/plain": [
       "<IPython.core.display.Javascript object>"
      ]
     },
     "metadata": {},
     "output_type": "display_data"
    }
   ],
   "source": [
    "%%javascript\n",
    "MathJax.Hub.Config({displayAlign: 'left'});"
   ]
  },
  {
   "cell_type": "markdown",
   "metadata": {},
   "source": [
    "### Implication & equivalence\n",
    "\n",
    "$$\n",
    "P \\implies Q \\\\\n",
    "Q \\implies P \\\\\n",
    "P \\iff Q\n",
    "$$\n",
    "\n",
    "### Set theory\n",
    "\n",
    "$$\n",
    "x \\in X \\\\\n",
    "X \\subset Y\n",
    "$$\n",
    "\n",
    "### Functions\n",
    "\n",
    "$$\n",
    "f : X \\to Y\n",
    "$$\n",
    "\n",
    "A rule that binds elements of set X to elements of set Y is called \"a function from X to Y\". X is the *domain* and Y is the *co-domain* (also known as *target set*).\n",
    "\n",
    "$f(x_i)$ is called \"$x_i$'s image under f\".\n",
    "\n",
    "The set that encompasses function f's image $\\{f(x_1), f(x_2), ... , f(x_n)\\}$ is called the *range* of f. The range might be a subset of the co-domain Y.\n",
    "\n",
    "A function is *onto* if its range is equal to its co-domain.\n",
    "\n",
    "$x_i \\neq x_j \\implies f(x_i) \\neq f(x_j)$ means that f is *one-to-one*.\n",
    "\n",
    "Function f has an inverse $\\iff$ function f is one-to-one and onto.\n",
    "\n",
    "### Linear  transformations\n",
    "\n",
    "f is a linear transformation from X to Y if it satisfies\n",
    "\n",
    "$$\n",
    "f(x_i) + f(x_j) = f(x_i + x_j) \\\\\n",
    "cf(x_i) = f(cx_i)\n",
    "$$\n",
    "\n",
    "where c is a real number."
   ]
  },
  {
   "cell_type": "markdown",
   "metadata": {},
   "source": [
    "### Combinations and permutations\n",
    "\n",
    "Binomial coefficient notation, read as \"n choose r\":\n",
    "\n",
    "$$\n",
    "{n \\choose r} = \\frac{n!}{r! (n - r)!} \n",
    "$$\n",
    "\n",
    "A *combination* is when you choose r among n items without considering the order in which they are chosen.\n",
    "\n",
    "$$\n",
    "_nP_k = \\frac{n!}{(n - k)!}\n",
    "$$\n",
    "\n",
    "Choosing k from n items in a certain order creates a *permutation* of the chosen items."
   ]
  },
  {
   "cell_type": "code",
   "execution_count": 23,
   "metadata": {},
   "outputs": [
    {
     "name": "stdout",
     "output_type": "stream",
     "text": [
      "35\n"
     ]
    },
    {
     "data": {
      "text/plain": [
       "210"
      ]
     },
     "execution_count": 23,
     "metadata": {},
     "output_type": "execute_result"
    }
   ],
   "source": [
    "import math\n",
    "f = math.factorial\n",
    "\n",
    "def ncr(n, r):\n",
    "    return f(n) // f(r) // f(n - r)\n",
    "\n",
    "def perm(n, r): \n",
    "    return f(n) // f(n - r)\n",
    "\n",
    "print(ncr(7, 3))\n",
    "\n",
    "perm(7, 3)"
   ]
  },
  {
   "cell_type": "markdown",
   "metadata": {},
   "source": [
    "### Matrix multiplication\n",
    "\n",
    "$$\n",
    "\\begin{pmatrix}\n",
    "1 & 2 \\\\\n",
    "3 & 4 \\\\\n",
    "5 & 6\n",
    "\\end{pmatrix}  \n",
    "\\begin{pmatrix}\n",
    "x_1 & y_1 \\\\\n",
    "x_2 & y_2 \n",
    "\\end{pmatrix} = \n",
    "\\begin{pmatrix}\n",
    "1x_1 + 2x_2 & 1y_1 + 2y_2 \\\\\n",
    "3x_1 + 4x_2 & 3y_1 + 3y_2 \\\\\n",
    "5x_1 + 6x_2 & 5y_1 + 6y_2\n",
    "\\end{pmatrix}\n",
    "$$\n",
    "\n",
    "### Zero matrix\n",
    "\n",
    "\\begin{pmatrix}\n",
    "0 & 0 & 0 \\\\\n",
    "0 & 0 & 0\n",
    "\\end{pmatrix}\n",
    "\n",
    "### Transpose matrix\n",
    "\n",
    "$$\n",
    "\\begin{pmatrix}\n",
    "3 & 4 & 5 \\\\\n",
    "1 & 2 & 3\n",
    "\\end{pmatrix}^T =\n",
    "\\begin{pmatrix}\n",
    "\n",
    "$$"
   ]
  },
  {
   "cell_type": "code",
   "execution_count": null,
   "metadata": {},
   "outputs": [],
   "source": []
  }
 ],
 "metadata": {
  "kernelspec": {
   "display_name": "Python 3",
   "language": "python",
   "name": "python3"
  },
  "language_info": {
   "codemirror_mode": {
    "name": "ipython",
    "version": 3
   },
   "file_extension": ".py",
   "mimetype": "text/x-python",
   "name": "python",
   "nbconvert_exporter": "python",
   "pygments_lexer": "ipython3",
   "version": "3.7.7"
  }
 },
 "nbformat": 4,
 "nbformat_minor": 4
}
