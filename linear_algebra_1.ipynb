{
 "cells": [
  {
   "cell_type": "markdown",
   "metadata": {},
   "source": [
    "List of LaTeX math symbols: https://oeis.org/wiki/List_of_LaTeX_mathematical_symbols"
   ]
  },
  {
   "cell_type": "code",
   "execution_count": 14,
   "metadata": {},
   "outputs": [
    {
     "data": {
      "application/javascript": [
       "MathJax.Hub.Config({displayAlign: 'left'});\n"
      ],
      "text/plain": [
       "<IPython.core.display.Javascript object>"
      ]
     },
     "metadata": {},
     "output_type": "display_data"
    }
   ],
   "source": [
    "%%javascript\n",
    "MathJax.Hub.Config({displayAlign: 'left'});"
   ]
  },
  {
   "cell_type": "markdown",
   "metadata": {},
   "source": [
    "### Implication & equivalence\n",
    "\n",
    "$$\n",
    "P \\implies Q \\\\\n",
    "Q \\implies P \\\\\n",
    "P \\iff Q\n",
    "$$\n",
    "\n",
    "### Set theory\n",
    "\n",
    "$$\n",
    "x \\in X \\\\\n",
    "X \\subset Y\n",
    "$$\n",
    "\n",
    "### Functions\n",
    "\n",
    "$$\n",
    "f : X \\to Y\n",
    "$$\n",
    "\n",
    "A rule that binds elements of set X to elements of set Y is called \"a function from X to Y\". X is the *domain* and Y is the *co-domain* (also known as *target set*).\n",
    "\n",
    "$f(x_i)$ is called \"$x_i$'s image under f\".\n",
    "\n",
    "The set that encompasses function f's image $\\{f(x_1), f(x_2), ... , f(x_n)\\}$ is called the *range* of f. The range might be a subset of the co-domain Y.\n",
    "\n",
    "A function is *onto* if its range is equal to its co-domain.\n",
    "\n",
    "$x_i \\neq x_j \\implies f(x_i) \\neq f(x_j)$ means that f is *one-to-one*.\n",
    "\n",
    "Function f has an inverse $\\iff$ function f is one-to-one and onto.\n",
    "\n",
    "### Linear  transformations\n",
    "\n",
    "f is a linear transformation from X to Y if it satisfies\n",
    "\n",
    "$$\n",
    "f(x_i) + f(x_j) = f(x_i + x_j) \\\\\n",
    "cf(x_i) = f(cx_i)\n",
    "$$\n",
    "\n",
    "where c is a real number.\n",
    "\n",
    "### Combinations and permutations\n",
    "\n",
    "Binomial coefficient notation, read as \"n choose r\":\n",
    "\n",
    "$$\n",
    "{n \\choose r} = \\frac{n!}{r! (n - r)!} \n",
    "$$\n",
    "\n",
    "A *combination* is when you choose r among n items without considering the order in which they are chosen.\n",
    "\n",
    "$$\n",
    "_nP_k = \\frac{n!}{(n - k)!}\n",
    "$$\n",
    "\n",
    "Choosing k from n items in a certain order creates a *permutation* of the chosen items."
   ]
  },
  {
   "cell_type": "code",
   "execution_count": 23,
   "metadata": {},
   "outputs": [
    {
     "name": "stdout",
     "output_type": "stream",
     "text": [
      "35\n"
     ]
    },
    {
     "data": {
      "text/plain": [
       "210"
      ]
     },
     "execution_count": 23,
     "metadata": {},
     "output_type": "execute_result"
    }
   ],
   "source": [
    "import math\n",
    "f = math.factorial\n",
    "\n",
    "def ncr(n, r):\n",
    "    return f(n) // f(r) // f(n - r)\n",
    "\n",
    "def perm(n, r): \n",
    "    return f(n) // f(n - r)\n",
    "\n",
    "print(ncr(7, 3))\n",
    "\n",
    "perm(7, 3)"
   ]
  },
  {
   "cell_type": "markdown",
   "metadata": {},
   "source": [
    "### Matrix multiplication\n",
    "\n",
    "$$\n",
    "\\begin{pmatrix}\n",
    "1 & 2 \\\\\n",
    "3 & 4 \\\\\n",
    "5 & 6\n",
    "\\end{pmatrix}  \n",
    "\\begin{pmatrix}\n",
    "x_1 & y_1 \\\\\n",
    "x_2 & y_2 \n",
    "\\end{pmatrix} = \n",
    "\\begin{pmatrix}\n",
    "1x_1 + 2x_2 & 1y_1 + 2y_2 \\\\\n",
    "3x_1 + 4x_2 & 3y_1 + 3y_2 \\\\\n",
    "5x_1 + 6x_2 & 5y_1 + 6y_2\n",
    "\\end{pmatrix}\n",
    "$$\n",
    "\n",
    "### Zero matrix\n",
    "\n",
    "\\begin{pmatrix}\n",
    "0 & 0 & 0 \\\\\n",
    "0 & 0 & 0\n",
    "\\end{pmatrix}\n",
    "\n",
    "### Transpose matrix\n",
    "\n",
    "$$\n",
    "\\begin{pmatrix}\n",
    "3 & 4 & 5 \\\\\n",
    "1 & 2 & 3\n",
    "\\end{pmatrix}^T =\n",
    "\\begin{pmatrix}\n",
    "3 & 1 \\\\\n",
    "4 & 2 \\\\\n",
    "5 & 3\n",
    "\\end{pmatrix}\n",
    "$$\n",
    "\n",
    "### Symmetric matrix\n",
    "\n",
    "\\begin{pmatrix}\n",
    "1 & 5 & 6 & 7 \\\\\n",
    "5 & 2 & 8 & 9 \\\\\n",
    "6 & 8 & 3 & 10 \\\\\n",
    "7 & 9 & 10 & 4\n",
    "\\end{pmatrix}\n",
    "\n",
    "A *symmetrix matrix* is a square matrix that is symmetric around its main diagonal.\n",
    "\n",
    "### Upper and lower triangular matrix\n",
    "\n",
    "\\begin{pmatrix}\n",
    "1 & 5 & 6 & 7 \\\\\n",
    "0 & 2 & 8 & 9 \\\\\n",
    "0 & 0 & 3 & 10 \\\\\n",
    "0 & 0 & 0 & 4\n",
    "\\end{pmatrix}\n",
    "\n",
    "In an *upper triangular matrix*, all elements below the main diagonal are zero.\n",
    "\n",
    "\\begin{pmatrix}\n",
    "1 & 0 & 0 & 0 \\\\\n",
    "5 & 2 & 0 & 0 \\\\\n",
    "6 & 8 & 3 & 0 \\\\\n",
    "7 & 9 & 10 & 4\n",
    "\\end{pmatrix}\n",
    "\n",
    "In a *lower triangular matrix*, all elements above the main diagonal are zero.\n",
    "\n",
    "### Diagonal matrix and identity matrix\n",
    "\n",
    "\\begin{pmatrix}\n",
    "1 & 0 & 0 & 0 \\\\\n",
    "0 & 2 & 0 & 0 \\\\\n",
    "0 & 0 & 3 & 0 \\\\\n",
    "0 & 0 & 0 & 4\n",
    "\\end{pmatrix}\n",
    "\n",
    "Can also be written as diag(1,2,3,4).\n",
    "\n",
    "An *identity matrix* is diag(1,1,1,...,1)."
   ]
  },
  {
   "cell_type": "markdown",
   "metadata": {},
   "source": [
    "### Inverse matrix\n",
    "\n",
    "If the product of two square matrices is an identity matrix, then the two factor matrices are *inverses* of each other.\n",
    "\n",
    "*Gaussian elimination* is about getting the non-variable matrix to approach the identity matrix.\n",
    "\n",
    "### Determinant\n",
    "\n",
    "The inverse of a matrix exists as long as its *determinant* isn't zero. The formula to calculate the determinant depends on the size ofthe matrix.\n",
    "\n",
    "$$\n",
    "det \\begin{pmatrix}\n",
    "a_{11} & a_{12} \\\\\n",
    "a_{21} & a_{22} \n",
    "\\end{pmatrix} = a_{11}a_{22} - a_{12}a_{21} \n",
    "$$"
   ]
  },
  {
   "cell_type": "code",
   "execution_count": 29,
   "metadata": {},
   "outputs": [
    {
     "data": {
      "text/plain": [
       "-2.0000000000000004"
      ]
     },
     "execution_count": 29,
     "metadata": {},
     "output_type": "execute_result"
    }
   ],
   "source": [
    "from numpy.linalg import det\n",
    "\n",
    "det([[1, 2], \n",
    "     [3, 4]])"
   ]
  },
  {
   "cell_type": "markdown",
   "metadata": {},
   "source": [
    "*Sarrus' Rule* is the formula for calculating the determinant of a 3x3 matrix.\n",
    "\n",
    "Three rules of determinates\n",
    "\n",
    "1. The left index in each goes from 1 to n\n",
    "1. The right index comes from a permutation of 1..n\n",
    "1. The factor is positive if the number of switches needed to make the second indexes be in natural order is even; otherwise it's negative\n",
    "\n",
    "*Cramer's rule* is an alternative way to solve linear systems."
   ]
  }
 ],
 "metadata": {
  "kernelspec": {
   "display_name": "Python 3",
   "language": "python",
   "name": "python3"
  },
  "language_info": {
   "codemirror_mode": {
    "name": "ipython",
    "version": 3
   },
   "file_extension": ".py",
   "mimetype": "text/x-python",
   "name": "python",
   "nbconvert_exporter": "python",
   "pygments_lexer": "ipython3",
   "version": "3.7.7"
  }
 },
 "nbformat": 4,
 "nbformat_minor": 4
}
